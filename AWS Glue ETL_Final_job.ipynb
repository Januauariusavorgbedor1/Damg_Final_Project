{
	"metadata": {
		"kernelspec": {
			"name": "glue_pyspark",
			"display_name": "Glue PySpark",
			"language": "python"
		},
		"language_info": {
			"name": "Python_Glue_Session",
			"mimetype": "text/x-python",
			"codemirror_mode": {
				"name": "python",
				"version": 3
			},
			"pygments_lexer": "python3",
			"file_extension": ".py"
		}
	},
	"nbformat_minor": 4,
	"nbformat": 4,
	"cells": [
		{
			"cell_type": "markdown",
			"source": "# AWS Glue Studio Notebook\n##### You are now running a AWS Glue Studio notebook; To start using your notebook you need to start an AWS Glue Interactive Session.\n",
			"metadata": {
				"editable": true,
				"trusted": true
			}
		},
		{
			"cell_type": "markdown",
			"source": "#### Optional: Run this cell to see available notebook commands (\"magics\").\n",
			"metadata": {
				"editable": true,
				"trusted": true
			}
		},
		{
			"cell_type": "code",
			"source": "%help",
			"metadata": {
				"trusted": true,
				"editable": true
			},
			"execution_count": null,
			"outputs": []
		},
		{
			"cell_type": "markdown",
			"source": "####  Run this cell to set up and start your interactive session.\n",
			"metadata": {
				"editable": true,
				"trusted": true
			}
		},
		{
			"cell_type": "code",
			"source": "%idle_timeout 2880\n%glue_version 5.0\n%worker_type G.2X\n%number_of_workers 10\n\nimport sys\nfrom awsglue.transforms import *\nfrom awsglue.utils import getResolvedOptions\nfrom pyspark.context import SparkContext\nfrom awsglue.context import GlueContext\nfrom awsglue.job import Job\n  \nsc = SparkContext.getOrCreate()\nglueContext = GlueContext(sc)\nspark = glueContext.spark_session\njob = Job(glueContext)",
			"metadata": {
				"trusted": true,
				"editable": true
			},
			"execution_count": 8,
			"outputs": [
				{
					"name": "stderr",
					"text": "You are already connected to a glueetl session ecb84d43-c817-4847-aa7f-3e664d0d1bdd.\n\nNo change will be made to the current session that is set as glueetl. The session configuration change will apply to newly created sessions.\n",
					"output_type": "stream"
				},
				{
					"name": "stdout",
					"text": "Current idle_timeout is None minutes.\nidle_timeout has been set to 2880 minutes.\n",
					"output_type": "stream"
				},
				{
					"name": "stderr",
					"text": "You are already connected to a glueetl session ecb84d43-c817-4847-aa7f-3e664d0d1bdd.\n\nNo change will be made to the current session that is set as glueetl. The session configuration change will apply to newly created sessions.\n",
					"output_type": "stream"
				},
				{
					"name": "stdout",
					"text": "Setting Glue version to: 5.0\n",
					"output_type": "stream"
				},
				{
					"name": "stderr",
					"text": "You are already connected to a glueetl session ecb84d43-c817-4847-aa7f-3e664d0d1bdd.\n\nNo change will be made to the current session that is set as glueetl. The session configuration change will apply to newly created sessions.\n",
					"output_type": "stream"
				},
				{
					"name": "stdout",
					"text": "Previous worker type: None\nSetting new worker type to: G.2X\n",
					"output_type": "stream"
				},
				{
					"name": "stderr",
					"text": "You are already connected to a glueetl session ecb84d43-c817-4847-aa7f-3e664d0d1bdd.\n\nNo change will be made to the current session that is set as glueetl. The session configuration change will apply to newly created sessions.\n",
					"output_type": "stream"
				},
				{
					"name": "stdout",
					"text": "Previous number of workers: None\nSetting new number of workers to: 10\n\n",
					"output_type": "stream"
				}
			]
		},
		{
			"cell_type": "code",
			"source": "# Reading the CSV file from S3 bucket and displaying the data",
			"metadata": {},
			"execution_count": null,
			"outputs": []
		},
		{
			"cell_type": "code",
			"source": "\ns3_path = \"s3://accidentdatasetbucket/Stagging/US_Accidents_March23.csv\"\n\n# Read CSV as Glue DynamicFrame\ndyf = glueContext.create_dynamic_frame.from_options(\n    format_options={\"withHeader\": True, \"separator\": \",\"}, \n    connection_type=\"s3\",\n    format=\"csv\",\n    connection_options={\"paths\": [s3_path]},\n)",
			"metadata": {
				"trusted": true,
				"tags": []
			},
			"execution_count": 9,
			"outputs": [
				{
					"name": "stdout",
					"text": "\n",
					"output_type": "stream"
				}
			]
		},
		{
			"cell_type": "code",
			"source": "# Show schema",
			"metadata": {},
			"execution_count": null,
			"outputs": []
		},
		{
			"cell_type": "code",
			"source": "dyf.printSchema()",
			"metadata": {
				"trusted": true,
				"tags": []
			},
			"execution_count": 10,
			"outputs": [
				{
					"name": "stdout",
					"text": "root\n|-- ID: string\n|-- Source: string\n|-- Severity: string\n|-- Start_Time: string\n|-- End_Time: string\n|-- Start_Lat: string\n|-- Start_Lng: string\n|-- End_Lat: string\n|-- End_Lng: string\n|-- Distance(mi): string\n|-- Description: string\n|-- Street: string\n|-- City: string\n|-- County: string\n|-- State: string\n|-- Zipcode: string\n|-- Country: string\n|-- Timezone: string\n|-- Airport_Code: string\n|-- Weather_Timestamp: string\n|-- Temperature(F): string\n|-- Wind_Chill(F): string\n|-- Humidity(%): string\n|-- Pressure(in): string\n|-- Visibility(mi): string\n|-- Wind_Direction: string\n|-- Wind_Speed(mph): string\n|-- Precipitation(in): string\n|-- Weather_Condition: string\n|-- Amenity: string\n|-- Bump: string\n|-- Crossing: string\n|-- Give_Way: string\n|-- Junction: string\n|-- No_Exit: string\n|-- Railway: string\n|-- Roundabout: string\n|-- Station: string\n|-- Stop: string\n|-- Traffic_Calming: string\n|-- Traffic_Signal: string\n|-- Turning_Loop: string\n|-- Sunrise_Sunset: string\n|-- Civil_Twilight: string\n|-- Nautical_Twilight: string\n|-- Astronomical_Twilight: string\n",
					"output_type": "stream"
				}
			]
		},
		{
			"cell_type": "code",
			"source": "",
			"metadata": {},
			"execution_count": null,
			"outputs": []
		},
		{
			"cell_type": "code",
			"source": "from pyspark.sql import SparkSession\nfrom awsglue.dynamicframe import DynamicFrame\nfrom pyspark.sql import functions as F",
			"metadata": {
				"trusted": true,
				"tags": []
			},
			"execution_count": 14,
			"outputs": [
				{
					"name": "stdout",
					"text": "\n",
					"output_type": "stream"
				}
			]
		},
		{
			"cell_type": "code",
			"source": "# Convert DynamicFrame to Spark DataFrame\ndf = dyf.toDF()",
			"metadata": {
				"trusted": true,
				"tags": []
			},
			"execution_count": 15,
			"outputs": [
				{
					"name": "stdout",
					"text": "/opt/amazon/spark/python/lib/pyspark.zip/pyspark/sql/dataframe.py:127: UserWarning: DataFrame constructor is internal. Do not directly use it.\n",
					"output_type": "stream"
				}
			]
		},
		{
			"cell_type": "code",
			"source": "# Show first 5 rows to verify data\ndf.show(5)",
			"metadata": {
				"trusted": true,
				"tags": []
			},
			"execution_count": 16,
			"outputs": [
				{
					"name": "stdout",
					"text": "+---+-------+--------+-------------------+-------------------+-----------------+------------------+-------+-------+------------+--------------------+--------------------+------------+----------+-----+----------+-------+----------+------------+-------------------+--------------+-------------+-----------+------------+--------------+--------------+---------------+-----------------+-----------------+-------+-----+--------+--------+--------+-------+-------+----------+-------+-----+---------------+--------------+------------+--------------+--------------+-----------------+---------------------+\n| ID| Source|Severity|         Start_Time|           End_Time|        Start_Lat|         Start_Lng|End_Lat|End_Lng|Distance(mi)|         Description|              Street|        City|    County|State|   Zipcode|Country|  Timezone|Airport_Code|  Weather_Timestamp|Temperature(F)|Wind_Chill(F)|Humidity(%)|Pressure(in)|Visibility(mi)|Wind_Direction|Wind_Speed(mph)|Precipitation(in)|Weather_Condition|Amenity| Bump|Crossing|Give_Way|Junction|No_Exit|Railway|Roundabout|Station| Stop|Traffic_Calming|Traffic_Signal|Turning_Loop|Sunrise_Sunset|Civil_Twilight|Nautical_Twilight|Astronomical_Twilight|\n+---+-------+--------+-------------------+-------------------+-----------------+------------------+-------+-------+------------+--------------------+--------------------+------------+----------+-----+----------+-------+----------+------------+-------------------+--------------+-------------+-----------+------------+--------------+--------------+---------------+-----------------+-----------------+-------+-----+--------+--------+--------+-------+-------+----------+-------+-----+---------------+--------------+------------+--------------+--------------+-----------------+---------------------+\n|A-1|Source2|       3|2016-02-08 05:46:00|2016-02-08 11:00:00|        39.865147|        -84.058723|       |       |        0.01|Right lane blocke...|              I-70 E|      Dayton|Montgomery|   OH|     45424|     US|US/Eastern|        KFFO|2016-02-08 05:58:00|          36.9|             |       91.0|       29.68|          10.0|          Calm|               |             0.02|       Light Rain|  False|False|   False|   False|   False|  False|  False|     False|  False|False|          False|         False|       False|         Night|         Night|            Night|                Night|\n|A-2|Source2|       2|2016-02-08 06:07:59|2016-02-08 06:37:59|39.92805900000001|        -82.831184|       |       |        0.01|Accident on Brice...|            Brice Rd|Reynoldsburg|  Franklin|   OH|43068-3402|     US|US/Eastern|        KCMH|2016-02-08 05:51:00|          37.9|             |      100.0|       29.65|          10.0|          Calm|               |              0.0|       Light Rain|  False|False|   False|   False|   False|  False|  False|     False|  False|False|          False|         False|       False|         Night|         Night|            Night|                  Day|\n|A-3|Source2|       2|2016-02-08 06:49:27|2016-02-08 07:19:27|        39.063148|        -84.032608|       |       |        0.01|Accident on OH-32...|      State Route 32|Williamsburg|  Clermont|   OH|     45176|     US|US/Eastern|        KI69|2016-02-08 06:56:00|          36.0|         33.3|      100.0|       29.67|          10.0|            SW|            3.5|                 |         Overcast|  False|False|   False|   False|   False|  False|  False|     False|  False|False|          False|          True|       False|         Night|         Night|              Day|                  Day|\n|A-4|Source2|       3|2016-02-08 07:23:34|2016-02-08 07:53:34|        39.747753|-84.20558199999998|       |       |        0.01|Accident on I-75 ...|              I-75 S|      Dayton|Montgomery|   OH|     45417|     US|US/Eastern|        KDAY|2016-02-08 07:38:00|          35.1|         31.0|       96.0|       29.64|           9.0|            SW|            4.6|                 |    Mostly Cloudy|  False|False|   False|   False|   False|  False|  False|     False|  False|False|          False|         False|       False|         Night|           Day|              Day|                  Day|\n|A-5|Source2|       2|2016-02-08 07:39:07|2016-02-08 08:09:07|        39.627781|        -84.188354|       |       |        0.01|Accident on McEwe...|Miamisburg Center...|      Dayton|Montgomery|   OH|     45459|     US|US/Eastern|        KMGY|2016-02-08 07:53:00|          36.0|         33.3|       89.0|       29.65|           6.0|            SW|            3.5|                 |    Mostly Cloudy|  False|False|   False|   False|   False|  False|  False|     False|  False|False|          False|          True|       False|           Day|           Day|              Day|                  Day|\n+---+-------+--------+-------------------+-------------------+-----------------+------------------+-------+-------+------------+--------------------+--------------------+------------+----------+-----+----------+-------+----------+------------+-------------------+--------------+-------------+-----------+------------+--------------+--------------+---------------+-----------------+-----------------+-------+-----+--------+--------+--------+-------+-------+----------+-------+-----+---------------+--------------+------------+--------------+--------------+-----------------+---------------------+\nonly showing top 5 rows\n",
					"output_type": "stream"
				}
			]
		},
		{
			"cell_type": "code",
			"source": "",
			"metadata": {},
			"execution_count": null,
			"outputs": []
		},
		{
			"cell_type": "code",
			"source": "#Working with Missing, incoreect, and invalid data",
			"metadata": {},
			"execution_count": null,
			"outputs": []
		},
		{
			"cell_type": "code",
			"source": "# Check for missing (NaN) values",
			"metadata": {},
			"execution_count": null,
			"outputs": []
		},
		{
			"cell_type": "code",
			"source": "missing_values = df.select([F.count(F.when(F.col(c).isNull(), c)).alias(c) for c in df.columns])",
			"metadata": {
				"trusted": true,
				"tags": []
			},
			"execution_count": 17,
			"outputs": [
				{
					"name": "stdout",
					"text": "\n",
					"output_type": "stream"
				}
			]
		},
		{
			"cell_type": "code",
			"source": "missing_values = df.select([F.count(F.when((F.col(c).isNull()) | (F.col(c) == 0), c)).alias(c) for c in df.columns])",
			"metadata": {
				"trusted": true,
				"tags": []
			},
			"execution_count": 18,
			"outputs": [
				{
					"name": "stdout",
					"text": "\n",
					"output_type": "stream"
				}
			]
		},
		{
			"cell_type": "code",
			"source": "# Show missing values per column\nmissing_values.show()",
			"metadata": {
				"trusted": true,
				"tags": []
			},
			"execution_count": 19,
			"outputs": [
				{
					"name": "stdout",
					"text": "+---+------+--------+----------+--------+---------+---------+-------+-------+------------+-----------+------+----+------+-----+-------+-------+--------+------------+-----------------+--------------+-------------+-----------+------------+--------------+--------------+---------------+-----------------+-----------------+-------+----+--------+--------+--------+-------+-------+----------+-------+----+---------------+--------------+------------+--------------+--------------+-----------------+---------------------+\n| ID|Source|Severity|Start_Time|End_Time|Start_Lat|Start_Lng|End_Lat|End_Lng|Distance(mi)|Description|Street|City|County|State|Zipcode|Country|Timezone|Airport_Code|Weather_Timestamp|Temperature(F)|Wind_Chill(F)|Humidity(%)|Pressure(in)|Visibility(mi)|Wind_Direction|Wind_Speed(mph)|Precipitation(in)|Weather_Condition|Amenity|Bump|Crossing|Give_Way|Junction|No_Exit|Railway|Roundabout|Station|Stop|Traffic_Calming|Traffic_Signal|Turning_Loop|Sunrise_Sunset|Civil_Twilight|Nautical_Twilight|Astronomical_Twilight|\n+---+------+--------+----------+--------+---------+---------+-------+-------+------------+-----------+------+----+------+-----+-------+-------+--------+------------+-----------------+--------------+-------------+-----------+------------+--------------+--------------+---------------+-----------------+-----------------+-------+----+--------+--------+--------+-------+-------+----------+-------+----+---------------+--------------+------------+--------------+--------------+-----------------+---------------------+\n|  0|     0|       0|         0|       0|        0|        0|      0|      0|     6615928|          0|     0|   0|     0|    0|      0|      0|       0|           0|                0|          3599|         7638|          0|          14|        117131|             0|         961643|          5522405|                0|      0|   0|       0|       0|       0|      0|      0|         0|      0|   0|              0|             0|           0|             0|             0|                0|                    0|\n+---+------+--------+----------+--------+---------+---------+-------+-------+------------+-----------+------+----+------+-----+-------+-------+--------+------------+-----------------+--------------+-------------+-----------+------------+--------------+--------------+---------------+-----------------+-----------------+-------+----+--------+--------+--------+-------+-------+----------+-------+----+---------------+--------------+------------+--------------+--------------+-----------------+---------------------+\n",
					"output_type": "stream"
				}
			]
		},
		{
			"cell_type": "code",
			"source": "",
			"metadata": {},
			"execution_count": null,
			"outputs": []
		},
		{
			"cell_type": "code",
			"source": "total_rows = df.count()",
			"metadata": {
				"trusted": true,
				"tags": []
			},
			"execution_count": 20,
			"outputs": [
				{
					"name": "stdout",
					"text": "\n",
					"output_type": "stream"
				}
			]
		},
		{
			"cell_type": "code",
			"source": "",
			"metadata": {},
			"execution_count": null,
			"outputs": []
		},
		{
			"cell_type": "code",
			"source": "# Count NaN and 0 values per column\nmissing_values_count = df.select([F.count(F.when((F.col(c).isNull()) | (F.col(c) == 0), c)).alias(c) for c in df.columns])",
			"metadata": {
				"trusted": true,
				"tags": []
			},
			"execution_count": 21,
			"outputs": [
				{
					"name": "stdout",
					"text": "\n",
					"output_type": "stream"
				}
			]
		},
		{
			"cell_type": "code",
			"source": "# Calculate the percentage of missing and 0 values\nperc_missing = missing_values_count.select(\n    [(F.col(c) / total_rows * 100).alias(c) for c in missing_values_count.columns]\n)",
			"metadata": {
				"trusted": true,
				"tags": []
			},
			"execution_count": 22,
			"outputs": [
				{
					"name": "stdout",
					"text": "\n",
					"output_type": "stream"
				}
			]
		},
		{
			"cell_type": "code",
			"source": "# Show percentage of NaN and 0 values per column\nperc_missing.show()",
			"metadata": {
				"trusted": true,
				"tags": []
			},
			"execution_count": 23,
			"outputs": [
				{
					"name": "stdout",
					"text": "+---+------+--------+----------+--------+---------+---------+-------+-------+-----------------+-----------+------+----+------+-----+-------+-------+--------+------------+-----------------+--------------------+-------------------+-----------+--------------------+-----------------+--------------+------------------+-----------------+-----------------+-------+----+--------+--------+--------+-------+-------+----------+-------+----+---------------+--------------+------------+--------------+--------------+-----------------+---------------------+\n| ID|Source|Severity|Start_Time|End_Time|Start_Lat|Start_Lng|End_Lat|End_Lng|     Distance(mi)|Description|Street|City|County|State|Zipcode|Country|Timezone|Airport_Code|Weather_Timestamp|      Temperature(F)|      Wind_Chill(F)|Humidity(%)|        Pressure(in)|   Visibility(mi)|Wind_Direction|   Wind_Speed(mph)|Precipitation(in)|Weather_Condition|Amenity|Bump|Crossing|Give_Way|Junction|No_Exit|Railway|Roundabout|Station|Stop|Traffic_Calming|Traffic_Signal|Turning_Loop|Sunrise_Sunset|Civil_Twilight|Nautical_Twilight|Astronomical_Twilight|\n+---+------+--------+----------+--------+---------+---------+-------+-------+-----------------+-----------+------+----+------+-----+-------+-------+--------+------------+-----------------+--------------------+-------------------+-----------+--------------------+-----------------+--------------+------------------+-----------------+-----------------+-------+----+--------+--------+--------+-------+-------+----------+-------+----+---------------+--------------+------------+--------------+--------------+-----------------+---------------------+\n|0.0|   0.0|     0.0|       0.0|     0.0|      0.0|      0.0|    0.0|    0.0|85.60546990746072|        0.0|   0.0| 0.0|   0.0|  0.0|    0.0|    0.0|     0.0|         0.0|              0.0|0.046568536749032205|0.09883036501503419|        0.0|1.811501846308560...|1.515593019714057|           0.0|12.442986214212164| 71.4560489540259|              0.0|    0.0| 0.0|     0.0|     0.0|     0.0|    0.0|    0.0|       0.0|    0.0| 0.0|            0.0|           0.0|         0.0|           0.0|           0.0|              0.0|                  0.0|\n+---+------+--------+----------+--------+---------+---------+-------+-------+-----------------+-----------+------+----+------+-----+-------+-------+--------+------------+-----------------+--------------------+-------------------+-----------+--------------------+-----------------+--------------+------------------+-----------------+-----------------+-------+----+--------+--------+--------+-------+-------+----------+-------+----+---------------+--------------+------------+--------------+--------------+-----------------+---------------------+\n",
					"output_type": "stream"
				}
			]
		},
		{
			"cell_type": "code",
			"source": "",
			"metadata": {},
			"execution_count": null,
			"outputs": []
		},
		{
			"cell_type": "code",
			"source": "# Filter columns with 20% or more missing (NaN) or 0 values\ncolumns_to_drop = perc_missing.select(\n    [F.when(F.col(c) >= 20, c).alias(c) for c in perc_missing.columns]\n).dropna(how='all')  # Drop columns that are entirely NaN (if no columns meet the threshold)",
			"metadata": {
				"trusted": true,
				"tags": []
			},
			"execution_count": 24,
			"outputs": [
				{
					"name": "stdout",
					"text": "\n",
					"output_type": "stream"
				}
			]
		},
		{
			"cell_type": "code",
			"source": "# Show the list of columns to be dropped\ncolumns_to_drop.show()",
			"metadata": {
				"trusted": true,
				"tags": []
			},
			"execution_count": 25,
			"outputs": [
				{
					"name": "stdout",
					"text": "+----+------+--------+----------+--------+---------+---------+-------+-------+------------+-----------+------+----+------+-----+-------+-------+--------+------------+-----------------+--------------+-------------+-----------+------------+--------------+--------------+---------------+-----------------+-----------------+-------+----+--------+--------+--------+-------+-------+----------+-------+----+---------------+--------------+------------+--------------+--------------+-----------------+---------------------+\n|  ID|Source|Severity|Start_Time|End_Time|Start_Lat|Start_Lng|End_Lat|End_Lng|Distance(mi)|Description|Street|City|County|State|Zipcode|Country|Timezone|Airport_Code|Weather_Timestamp|Temperature(F)|Wind_Chill(F)|Humidity(%)|Pressure(in)|Visibility(mi)|Wind_Direction|Wind_Speed(mph)|Precipitation(in)|Weather_Condition|Amenity|Bump|Crossing|Give_Way|Junction|No_Exit|Railway|Roundabout|Station|Stop|Traffic_Calming|Traffic_Signal|Turning_Loop|Sunrise_Sunset|Civil_Twilight|Nautical_Twilight|Astronomical_Twilight|\n+----+------+--------+----------+--------+---------+---------+-------+-------+------------+-----------+------+----+------+-----+-------+-------+--------+------------+-----------------+--------------+-------------+-----------+------------+--------------+--------------+---------------+-----------------+-----------------+-------+----+--------+--------+--------+-------+-------+----------+-------+----+---------------+--------------+------------+--------------+--------------+-----------------+---------------------+\n|null|  null|    null|      null|    null|     null|     null|   null|   null|Distance(mi)|       null|  null|null|  null| null|   null|   null|    null|        null|             null|          null|         null|       null|        null|          null|          null|           null|Precipitation(in)|             null|   null|null|    null|    null|    null|   null|   null|      null|   null|null|           null|          null|        null|          null|          null|             null|                 null|\n+----+------+--------+----------+--------+---------+---------+-------+-------+------------+-----------+------+----+------+-----+-------+-------+--------+------------+-----------------+--------------+-------------+-----------+------------+--------------+--------------+---------------+-----------------+-----------------+-------+----+--------+--------+--------+-------+-------+----------+-------+----+---------------+--------------+------------+--------------+--------------+-----------------+---------------------+\n",
					"output_type": "stream"
				}
			]
		},
		{
			"cell_type": "code",
			"source": "",
			"metadata": {},
			"execution_count": null,
			"outputs": []
		},
		{
			"cell_type": "code",
			"source": "# Drop the identified columns from the original DataFrame\ncolumns_to_drop_list = [col for col in columns_to_drop.columns if columns_to_drop.select(col).first()[0] is not None]\ndf_cleaned = df.drop(*columns_to_drop_list)",
			"metadata": {
				"trusted": true,
				"tags": []
			},
			"execution_count": 26,
			"outputs": [
				{
					"name": "stdout",
					"text": "\n",
					"output_type": "stream"
				}
			]
		},
		{
			"cell_type": "code",
			"source": "# Show the cleaned DataFrame schema\ndf_cleaned.printSchema()",
			"metadata": {
				"trusted": true,
				"tags": []
			},
			"execution_count": 27,
			"outputs": [
				{
					"name": "stdout",
					"text": "root\n |-- ID: string (nullable = true)\n |-- Source: string (nullable = true)\n |-- Severity: string (nullable = true)\n |-- Start_Time: string (nullable = true)\n |-- End_Time: string (nullable = true)\n |-- Start_Lat: string (nullable = true)\n |-- Start_Lng: string (nullable = true)\n |-- End_Lat: string (nullable = true)\n |-- End_Lng: string (nullable = true)\n |-- Description: string (nullable = true)\n |-- Street: string (nullable = true)\n |-- City: string (nullable = true)\n |-- County: string (nullable = true)\n |-- State: string (nullable = true)\n |-- Zipcode: string (nullable = true)\n |-- Country: string (nullable = true)\n |-- Timezone: string (nullable = true)\n |-- Airport_Code: string (nullable = true)\n |-- Weather_Timestamp: string (nullable = true)\n |-- Temperature(F): string (nullable = true)\n |-- Wind_Chill(F): string (nullable = true)\n |-- Humidity(%): string (nullable = true)\n |-- Pressure(in): string (nullable = true)\n |-- Visibility(mi): string (nullable = true)\n |-- Wind_Direction: string (nullable = true)\n |-- Wind_Speed(mph): string (nullable = true)\n |-- Weather_Condition: string (nullable = true)\n |-- Amenity: string (nullable = true)\n |-- Bump: string (nullable = true)\n |-- Crossing: string (nullable = true)\n |-- Give_Way: string (nullable = true)\n |-- Junction: string (nullable = true)\n |-- No_Exit: string (nullable = true)\n |-- Railway: string (nullable = true)\n |-- Roundabout: string (nullable = true)\n |-- Station: string (nullable = true)\n |-- Stop: string (nullable = true)\n |-- Traffic_Calming: string (nullable = true)\n |-- Traffic_Signal: string (nullable = true)\n |-- Turning_Loop: string (nullable = true)\n |-- Sunrise_Sunset: string (nullable = true)\n |-- Civil_Twilight: string (nullable = true)\n |-- Nautical_Twilight: string (nullable = true)\n |-- Astronomical_Twilight: string (nullable = true)\n",
					"output_type": "stream"
				}
			]
		},
		{
			"cell_type": "code",
			"source": "",
			"metadata": {},
			"execution_count": null,
			"outputs": []
		},
		{
			"cell_type": "code",
			"source": "# Unrealistic temperature values (outside -30°F to 130°F)\ndf_cleaned = df_cleaned.withColumn(\n    \"Temperature(F)\",\n    F.when((F.col(\"Temperature(F)\") < -30) | (F.col(\"Temperature(F)\") > 130), F.lit(None))\n    .otherwise(F.col(\"Temperature(F)\"))\n)",
			"metadata": {
				"trusted": true,
				"tags": []
			},
			"execution_count": 27,
			"outputs": [
				{
					"name": "stdout",
					"text": "\n",
					"output_type": "stream"
				}
			]
		},
		{
			"cell_type": "code",
			"source": "# Show cleaned data with unrealistic temperature values handled\ndf_cleaned.show(5)",
			"metadata": {
				"trusted": true,
				"tags": []
			},
			"execution_count": 28,
			"outputs": [
				{
					"name": "stdout",
					"text": "+---+-------+--------+-------------------+-------------------+-----------------+------------------+-------+-------+--------------------+--------------------+------------+----------+-----+----------+-------+----------+------------+-------------------+--------------+-------------+-----------+------------+--------------+--------------+---------------+-----------------+-------+-----+--------+--------+--------+-------+-------+----------+-------+-----+---------------+--------------+------------+--------------+--------------+-----------------+---------------------+\n| ID| Source|Severity|         Start_Time|           End_Time|        Start_Lat|         Start_Lng|End_Lat|End_Lng|         Description|              Street|        City|    County|State|   Zipcode|Country|  Timezone|Airport_Code|  Weather_Timestamp|Temperature(F)|Wind_Chill(F)|Humidity(%)|Pressure(in)|Visibility(mi)|Wind_Direction|Wind_Speed(mph)|Weather_Condition|Amenity| Bump|Crossing|Give_Way|Junction|No_Exit|Railway|Roundabout|Station| Stop|Traffic_Calming|Traffic_Signal|Turning_Loop|Sunrise_Sunset|Civil_Twilight|Nautical_Twilight|Astronomical_Twilight|\n+---+-------+--------+-------------------+-------------------+-----------------+------------------+-------+-------+--------------------+--------------------+------------+----------+-----+----------+-------+----------+------------+-------------------+--------------+-------------+-----------+------------+--------------+--------------+---------------+-----------------+-------+-----+--------+--------+--------+-------+-------+----------+-------+-----+---------------+--------------+------------+--------------+--------------+-----------------+---------------------+\n|A-1|Source2|       3|2016-02-08 05:46:00|2016-02-08 11:00:00|        39.865147|        -84.058723|       |       |Right lane blocke...|              I-70 E|      Dayton|Montgomery|   OH|     45424|     US|US/Eastern|        KFFO|2016-02-08 05:58:00|          36.9|             |       91.0|       29.68|          10.0|          Calm|               |       Light Rain|  False|False|   False|   False|   False|  False|  False|     False|  False|False|          False|         False|       False|         Night|         Night|            Night|                Night|\n|A-2|Source2|       2|2016-02-08 06:07:59|2016-02-08 06:37:59|39.92805900000001|        -82.831184|       |       |Accident on Brice...|            Brice Rd|Reynoldsburg|  Franklin|   OH|43068-3402|     US|US/Eastern|        KCMH|2016-02-08 05:51:00|          37.9|             |      100.0|       29.65|          10.0|          Calm|               |       Light Rain|  False|False|   False|   False|   False|  False|  False|     False|  False|False|          False|         False|       False|         Night|         Night|            Night|                  Day|\n|A-3|Source2|       2|2016-02-08 06:49:27|2016-02-08 07:19:27|        39.063148|        -84.032608|       |       |Accident on OH-32...|      State Route 32|Williamsburg|  Clermont|   OH|     45176|     US|US/Eastern|        KI69|2016-02-08 06:56:00|          36.0|         33.3|      100.0|       29.67|          10.0|            SW|            3.5|         Overcast|  False|False|   False|   False|   False|  False|  False|     False|  False|False|          False|          True|       False|         Night|         Night|              Day|                  Day|\n|A-4|Source2|       3|2016-02-08 07:23:34|2016-02-08 07:53:34|        39.747753|-84.20558199999998|       |       |Accident on I-75 ...|              I-75 S|      Dayton|Montgomery|   OH|     45417|     US|US/Eastern|        KDAY|2016-02-08 07:38:00|          35.1|         31.0|       96.0|       29.64|           9.0|            SW|            4.6|    Mostly Cloudy|  False|False|   False|   False|   False|  False|  False|     False|  False|False|          False|         False|       False|         Night|           Day|              Day|                  Day|\n|A-5|Source2|       2|2016-02-08 07:39:07|2016-02-08 08:09:07|        39.627781|        -84.188354|       |       |Accident on McEwe...|Miamisburg Center...|      Dayton|Montgomery|   OH|     45459|     US|US/Eastern|        KMGY|2016-02-08 07:53:00|          36.0|         33.3|       89.0|       29.65|           6.0|            SW|            3.5|    Mostly Cloudy|  False|False|   False|   False|   False|  False|  False|     False|  False|False|          False|          True|       False|           Day|           Day|              Day|                  Day|\n+---+-------+--------+-------------------+-------------------+-----------------+------------------+-------+-------+--------------------+--------------------+------------+----------+-----+----------+-------+----------+------------+-------------------+--------------+-------------+-----------+------------+--------------+--------------+---------------+-----------------+-------+-----+--------+--------+--------+-------+-------+----------+-------+-----+---------------+--------------+------------+--------------+--------------+-----------------+---------------------+\nonly showing top 5 rows\n",
					"output_type": "stream"
				}
			]
		},
		{
			"cell_type": "code",
			"source": "",
			"metadata": {},
			"execution_count": null,
			"outputs": []
		},
		{
			"cell_type": "code",
			"source": "# Replace 'Visibility(mi)' values that are 0 or greater than 100 with NaN\ndf_cleaned = df_cleaned.withColumn(\n    \"Visibility(mi)\",\n    F.when((F.col(\"Visibility(mi)\") == 0) | (F.col(\"Visibility(mi)\") > 100), F.lit(None))\n    .otherwise(F.col(\"Visibility(mi)\"))\n)",
			"metadata": {
				"trusted": true,
				"tags": []
			},
			"execution_count": 29,
			"outputs": [
				{
					"name": "stdout",
					"text": "\n",
					"output_type": "stream"
				}
			]
		},
		{
			"cell_type": "code",
			"source": "# Show the cleaned data with replaced 'Visibility(mi)' values\ndf_cleaned.show(5)",
			"metadata": {
				"trusted": true,
				"tags": []
			},
			"execution_count": 30,
			"outputs": [
				{
					"name": "stdout",
					"text": "+---+-------+--------+-------------------+-------------------+-----------------+------------------+-------+-------+--------------------+--------------------+------------+----------+-----+----------+-------+----------+------------+-------------------+--------------+-------------+-----------+------------+--------------+--------------+---------------+-----------------+-------+-----+--------+--------+--------+-------+-------+----------+-------+-----+---------------+--------------+------------+--------------+--------------+-----------------+---------------------+\n| ID| Source|Severity|         Start_Time|           End_Time|        Start_Lat|         Start_Lng|End_Lat|End_Lng|         Description|              Street|        City|    County|State|   Zipcode|Country|  Timezone|Airport_Code|  Weather_Timestamp|Temperature(F)|Wind_Chill(F)|Humidity(%)|Pressure(in)|Visibility(mi)|Wind_Direction|Wind_Speed(mph)|Weather_Condition|Amenity| Bump|Crossing|Give_Way|Junction|No_Exit|Railway|Roundabout|Station| Stop|Traffic_Calming|Traffic_Signal|Turning_Loop|Sunrise_Sunset|Civil_Twilight|Nautical_Twilight|Astronomical_Twilight|\n+---+-------+--------+-------------------+-------------------+-----------------+------------------+-------+-------+--------------------+--------------------+------------+----------+-----+----------+-------+----------+------------+-------------------+--------------+-------------+-----------+------------+--------------+--------------+---------------+-----------------+-------+-----+--------+--------+--------+-------+-------+----------+-------+-----+---------------+--------------+------------+--------------+--------------+-----------------+---------------------+\n|A-1|Source2|       3|2016-02-08 05:46:00|2016-02-08 11:00:00|        39.865147|        -84.058723|       |       |Right lane blocke...|              I-70 E|      Dayton|Montgomery|   OH|     45424|     US|US/Eastern|        KFFO|2016-02-08 05:58:00|          36.9|             |       91.0|       29.68|          10.0|          Calm|               |       Light Rain|  False|False|   False|   False|   False|  False|  False|     False|  False|False|          False|         False|       False|         Night|         Night|            Night|                Night|\n|A-2|Source2|       2|2016-02-08 06:07:59|2016-02-08 06:37:59|39.92805900000001|        -82.831184|       |       |Accident on Brice...|            Brice Rd|Reynoldsburg|  Franklin|   OH|43068-3402|     US|US/Eastern|        KCMH|2016-02-08 05:51:00|          37.9|             |      100.0|       29.65|          10.0|          Calm|               |       Light Rain|  False|False|   False|   False|   False|  False|  False|     False|  False|False|          False|         False|       False|         Night|         Night|            Night|                  Day|\n|A-3|Source2|       2|2016-02-08 06:49:27|2016-02-08 07:19:27|        39.063148|        -84.032608|       |       |Accident on OH-32...|      State Route 32|Williamsburg|  Clermont|   OH|     45176|     US|US/Eastern|        KI69|2016-02-08 06:56:00|          36.0|         33.3|      100.0|       29.67|          10.0|            SW|            3.5|         Overcast|  False|False|   False|   False|   False|  False|  False|     False|  False|False|          False|          True|       False|         Night|         Night|              Day|                  Day|\n|A-4|Source2|       3|2016-02-08 07:23:34|2016-02-08 07:53:34|        39.747753|-84.20558199999998|       |       |Accident on I-75 ...|              I-75 S|      Dayton|Montgomery|   OH|     45417|     US|US/Eastern|        KDAY|2016-02-08 07:38:00|          35.1|         31.0|       96.0|       29.64|           9.0|            SW|            4.6|    Mostly Cloudy|  False|False|   False|   False|   False|  False|  False|     False|  False|False|          False|         False|       False|         Night|           Day|              Day|                  Day|\n|A-5|Source2|       2|2016-02-08 07:39:07|2016-02-08 08:09:07|        39.627781|        -84.188354|       |       |Accident on McEwe...|Miamisburg Center...|      Dayton|Montgomery|   OH|     45459|     US|US/Eastern|        KMGY|2016-02-08 07:53:00|          36.0|         33.3|       89.0|       29.65|           6.0|            SW|            3.5|    Mostly Cloudy|  False|False|   False|   False|   False|  False|  False|     False|  False|False|          False|          True|       False|           Day|           Day|              Day|                  Day|\n+---+-------+--------+-------------------+-------------------+-----------------+------------------+-------+-------+--------------------+--------------------+------------+----------+-----+----------+-------+----------+------------+-------------------+--------------+-------------+-----------+------------+--------------+--------------+---------------+-----------------+-------+-----+--------+--------+--------+-------+-------+----------+-------+-----+---------------+--------------+------------+--------------+--------------+-----------------+---------------------+\nonly showing top 5 rows\n",
					"output_type": "stream"
				}
			]
		},
		{
			"cell_type": "code",
			"source": "",
			"metadata": {},
			"execution_count": null,
			"outputs": []
		},
		{
			"cell_type": "code",
			"source": "# Display rows where Wind_Speed(mph) is greater than 100\nextreme_wind_speed = df_cleaned.filter(F.col(\"Wind_Speed(mph)\") > 100)",
			"metadata": {
				"trusted": true,
				"tags": []
			},
			"execution_count": 31,
			"outputs": [
				{
					"name": "stdout",
					"text": "\n",
					"output_type": "stream"
				}
			]
		},
		{
			"cell_type": "code",
			"source": "# Show the rows with extreme wind speed\nextreme_wind_speed.show()",
			"metadata": {
				"trusted": true,
				"tags": []
			},
			"execution_count": 32,
			"outputs": [
				{
					"name": "stdout",
					"text": "+--------+-------+--------+-------------------+-------------------+------------------+-------------------+-------+-------+--------------------+-------------------+-------------+-----------+-----+----------+-------+----------+------------+-------------------+--------------+-------------+-----------+------------+--------------+--------------+---------------+-----------------+-------+-----+--------+--------+--------+-------+-------+----------+-------+-----+---------------+--------------+------------+--------------+--------------+-----------------+---------------------+\n|      ID| Source|Severity|         Start_Time|           End_Time|         Start_Lat|          Start_Lng|End_Lat|End_Lng|         Description|             Street|         City|     County|State|   Zipcode|Country|  Timezone|Airport_Code|  Weather_Timestamp|Temperature(F)|Wind_Chill(F)|Humidity(%)|Pressure(in)|Visibility(mi)|Wind_Direction|Wind_Speed(mph)|Weather_Condition|Amenity| Bump|Crossing|Give_Way|Junction|No_Exit|Railway|Roundabout|Station| Stop|Traffic_Calming|Traffic_Signal|Turning_Loop|Sunrise_Sunset|Civil_Twilight|Nautical_Twilight|Astronomical_Twilight|\n+--------+-------+--------+-------------------+-------------------+------------------+-------------------+-------+-------+--------------------+-------------------+-------------+-----------+-----+----------+-------+----------+------------+-------------------+--------------+-------------+-----------+------------+--------------+--------------+---------------+-----------------+-------+-----+--------+--------+--------+-------+-------+----------+-------+-----+---------------+--------------+------------+--------------+--------------+-----------------+---------------------+\n| A-17803|Source2|       2|2016-11-20 12:12:44|2016-11-20 12:57:21|         38.452686|        -121.353485|       |       |Lane blocked due ...|        Waterman Rd|   Sacramento| Sacramento|   CA|     95829|     US|US/Pacific|        KMHR|2016-11-20 11:45:00|          59.0|             |       72.0|       29.96|          10.0|            SE|          142.7|         Overcast|  False|False|   False|   False|   False|  False|  False|     False|  False|False|          False|         False|       False|           Day|           Day|              Day|                  Day|\n| A-64267|Source2|       2|2017-01-20 13:48:33|2017-01-20 14:33:13|         34.120258|-117.73638899999999|       |       |#4 lane blocked d...|        N Towne Ave|    Claremont|Los Angeles|   CA|     91711|     US|US/Pacific|        KPOC|2017-01-20 13:47:00|          51.8|             |      100.0|       29.49|           4.0|           SSW|          241.7|       Light Rain|  False|False|   False|   False|   False|  False|  False|     False|  False|False|          False|          True|       False|           Day|           Day|              Day|                  Day|\n|A-113138|Source2|       2|2016-06-08 11:30:57|2016-06-08 12:15:57|         34.004101|-117.83119199999999|       |       |Right hand should...|            CA-57 S|       Walnut|Los Angeles|   CA|     91789|     US|US/Pacific|        KPOC|2016-06-08 11:47:00|          75.2|             |       53.0|       29.92|          10.0|           WSW|          123.1|            Clear|  False|False|   False|   False|   False|  False|  False|     False|  False|False|          False|         False|       False|           Day|           Day|              Day|                  Day|\n|A-113154|Source2|       2|2016-06-08 12:07:06|2016-06-08 12:52:06|         34.117599|        -117.824028|       |       |Accident on CA-57...|     Auto Centre Dr|     Glendora|Los Angeles|   CA|     91740|     US|US/Pacific|        KPOC|2016-06-08 11:47:00|          75.2|             |       53.0|       29.92|          10.0|           WSW|          123.1|            Clear|  False|False|   False|   False|   False|  False|  False|     False|  False|False|          False|         False|       False|           Day|           Day|              Day|                  Day|\n|A-114587|Source2|       3|2016-06-13 18:28:43|2016-06-13 19:13:43|34.303253000000005|        -118.479774|       |       |Right hand should...|         Roxford St|       Sylmar|Los Angeles|   CA|     91342|     US|US/Pacific|        KWHP|2016-06-13 16:53:00|          71.6|             |       53.0|       30.06|          10.0|            SE|          822.8|            Clear|  False|False|   False|   False|   False|  False|  False|     False|  False|False|          False|         False|       False|           Day|           Day|              Day|                  Day|\n|A-114595|Source2|       3|2016-06-13 18:44:57|2016-06-13 19:29:57|34.320553000000004|-118.49526200000001|       |       |Accident on I-5 T...|              I-5 N|       Sylmar|Los Angeles|   CA|     91342|     US|US/Pacific|        KWHP|2016-06-13 16:53:00|          71.6|             |       53.0|       30.06|          10.0|            SE|          822.8|            Clear|  False|False|   False|   False|   False|  False|  False|     False|  False|False|          False|         False|       False|           Day|           Day|              Day|                  Day|\n|A-114640|Source2|       3|2016-06-13 20:06:45|2016-06-13 20:51:45|34.247803000000005|        -118.425835|       |       |Accident on I-5 S...| Golden State Fwy S|      Pacoima|Los Angeles|   CA|     91331|     US|US/Pacific|        KWHP|2016-06-13 16:53:00|          71.6|             |       53.0|       30.06|          10.0|            SE|          822.8|            Clear|  False|False|   False|   False|   False|  False|  False|     False|  False|False|          False|         False|       False|         Night|           Day|              Day|                  Day|\n|A-114647|Source2|       2|2016-06-13 20:19:08|2016-06-13 21:04:08|         34.266048|-118.46743799999999|       |       |Accident on CA-11...|Ronald Reagan Fwy W|Mission Hills|Los Angeles|   CA|     91345|     US|US/Pacific|        KWHP|2016-06-13 16:53:00|          71.6|             |       53.0|       30.06|          10.0|            SE|          822.8|            Clear|  False|False|   False|   False|   False|  False|  False|     False|  False|False|          False|         False|       False|         Night|           Day|              Day|                  Day|\n|A-114654|Source2|       3|2016-06-13 20:30:47|2016-06-13 21:15:47|         34.266048|        -118.450768|       |       |Accident on I-5 N...|Ronald Reagan Fwy W|Mission Hills|Los Angeles|   CA|     91345|     US|US/Pacific|        KWHP|2016-06-13 16:53:00|          71.6|             |       53.0|       30.06|          10.0|            SE|          822.8|            Clear|  False|False|   False|   False|   False|  False|  False|     False|  False|False|          False|         False|       False|         Night|           Day|              Day|                  Day|\n|A-134899|Source2|       3|2016-10-17 10:15:45|2016-10-17 10:45:30|         26.368399|         -80.118271|       |       |Accident on I-95 ...|          Glades Rd|   Boca Raton| Palm Beach|   FL|     33431|     US|US/Eastern|        KBCT|2016-10-17 09:47:00|          82.4|             |       66.0|       29.96|          10.0|          East|          162.3| Scattered Clouds|  False|False|   False|   False|    True|  False|  False|     False|  False|False|          False|         False|       False|           Day|           Day|              Day|                  Day|\n|A-247675|Source2|       2|2016-09-29 05:00:17|2016-09-29 05:44:21|39.415442999999996|         -77.435059|       |       |Left hand shoulde...|       W Patrick St|    Frederick|  Frederick|   MD|     21702|     US|US/Eastern|        KFDK|2016-09-29 06:48:00|          64.4|             |      100.0|       30.11|           2.5|          East|          126.6|       Heavy Rain|  False|False|   False|   False|   False|  False|  False|     False|  False|False|          False|         False|       False|         Night|         Night|            Night|                Night|\n|A-247679|Source2|       2|2016-09-29 05:23:17|2016-09-29 06:37:40|           39.3559|         -77.582916|       |       |Left hand shoulde...|           US-340 E|    Knoxville|  Frederick|   MD|     21758|     US|US/Eastern|        KFDK|2016-09-29 06:48:00|          64.4|             |      100.0|       30.11|           2.5|          East|          126.6|       Heavy Rain|  False|False|   False|   False|   False|  False|  False|     False|  False|False|          False|         False|       False|         Night|         Night|            Night|                Night|\n|A-247681|Source2|       2|2016-09-29 05:12:55|2016-09-29 05:57:32|         39.357121| -77.56121800000003|       |       |Accident on US-34...|           US-340 W|    Jefferson|  Frederick|   MD|     21755|     US|US/Eastern|        KFDK|2016-09-29 06:48:00|          64.4|             |      100.0|       30.11|           2.5|          East|          126.6|       Heavy Rain|  False|False|   False|   False|   False|  False|  False|     False|  False|False|          False|         False|       False|         Night|         Night|            Night|                Night|\n|A-247727|Source2|       2|2016-09-29 07:15:21|2016-09-29 08:00:04|         39.367832|         -77.499832|       |       |Accident on US-15...|            US-15 N|    Frederick|  Frederick|   MD|     21703|     US|US/Eastern|        KFDK|2016-09-29 06:48:00|          64.4|             |      100.0|       30.11|           2.5|          East|          126.6|       Heavy Rain|  False|False|   False|   False|   False|  False|  False|     False|  False|False|          False|         False|       False|           Day|           Day|              Day|                  Day|\n|A-288680|Source2|       2|2016-10-03 20:01:47|2016-10-03 20:31:36|32.928284000000005|          -96.76902|       |       |Accident on Kit L...|             Kit Ln|       Dallas|     Dallas|   TX|     75240|     US|US/Central|        KADS|2016-10-03 19:47:00|          78.8|             |       51.0|       29.84|          13.0|           SSE|          127.7|            Clear|  False|False|   False|   False|   False|  False|  False|     False|  False|False|          False|         False|       False|         Night|         Night|            Night|                  Day|\n|A-478392|Source2|       3|2017-06-29 15:41:23|2017-06-29 16:26:10|         41.517941|         -73.973724|       |       |Right hand should...|             I-84 W|       Beacon|   Dutchess|   NY|     12508|     US|US/Eastern|        KSWF|2017-06-29 14:45:00|          82.4|             |       51.0|       30.07|          20.0|           WSW|          126.6|    Mostly Cloudy|  False|False|   False|   False|   False|  False|  False|     False|  False|False|          False|         False|       False|           Day|           Day|              Day|                  Day|\n|A-491524|Source2|       2|2017-07-10 16:56:50|2017-07-10 17:26:21|         37.449505|        -122.123795|       |       |Right lane blocke...|     Bayshore Fwy S|    Palo Alto|Santa Clara|   CA|     94303|     US|US/Pacific|        KPAO|2017-07-10 16:47:00|          69.8|             |       78.0|       29.88|          10.0|           NNW|          174.9|            Clear|  False|False|   False|   False|   False|  False|  False|     False|  False|False|          False|         False|       False|           Day|           Day|              Day|                  Day|\n|A-508159|Source2|       2|2017-07-10 17:34:16|2017-07-10 18:04:03|         32.934959|         -96.803841|       |       |Accident on TX-28...|         Preston Rd|       Dallas|     Dallas|   TX|75240-4708|     US|US/Central|        KADS|2017-07-10 17:47:00|          93.2|             |       44.0|       29.94|          13.0|         South|          162.3|    Partly Cloudy|  False|False|   False|   False|   False|  False|  False|     False|   True|False|          False|         False|       False|           Day|           Day|              Day|                  Day|\n|A-569586|Source2|       1|2022-07-11 18:17:30|2022-07-11 19:47:50|          41.55814|         -70.608727|       |       |Crash on Amvets A...|         Amvets Ave|     Falmouth| Barnstable|   MA|02540-3332|     US|US/Eastern|        KFMH|2022-07-11 17:55:00|          73.0|         73.0|       57.0|       29.75|          10.0|            SW|          132.0|     Fair / Windy|  False|False|   False|   False|   False|  False|  False|     False|  False|False|          False|         False|       False|           Day|           Day|              Day|                  Day|\n|A-688030|Source2|       2|2022-03-05 11:07:51|2022-03-05 11:52:43|         41.406406|         -81.466629|       |       |Lane blocked due ...|          Harper Rd|        Solon|   Cuyahoga|   OH|     44139|     US|US/Eastern|        KCGF|2022-03-05 10:45:00|          46.0|         31.0|       25.0|        29.2|          10.0|           SSE|          188.0|     Fair / Windy|  False|False|   False|   False|   False|  False|  False|     False|  False|False|          False|         False|       False|           Day|           Day|              Day|                  Day|\n+--------+-------+--------+-------------------+-------------------+------------------+-------------------+-------+-------+--------------------+-------------------+-------------+-----------+-----+----------+-------+----------+------------+-------------------+--------------+-------------+-----------+------------+--------------+--------------+---------------+-----------------+-------+-----+--------+--------+--------+-------+-------+----------+-------+-----+---------------+--------------+------------+--------------+--------------+-----------------+---------------------+\nonly showing top 20 rows\n",
					"output_type": "stream"
				}
			]
		},
		{
			"cell_type": "code",
			"source": "",
			"metadata": {},
			"execution_count": null,
			"outputs": []
		},
		{
			"cell_type": "code",
			"source": "# Replace extreme wind speed values with NaN\ndf_cleaned = df_cleaned.withColumn(\n    \"Wind_Speed(mph)\",\n    F.when(F.col(\"Wind_Speed(mph)\") > 100, F.lit(None))\n    .otherwise(F.col(\"Wind_Speed(mph)\"))\n)",
			"metadata": {
				"trusted": true,
				"tags": []
			},
			"execution_count": 33,
			"outputs": [
				{
					"name": "stdout",
					"text": "\n",
					"output_type": "stream"
				}
			]
		},
		{
			"cell_type": "code",
			"source": "# Show the cleaned data with replaced 'Wind_Speed(mph)' values\ndf_cleaned.show(5)",
			"metadata": {
				"trusted": true,
				"tags": []
			},
			"execution_count": 34,
			"outputs": [
				{
					"name": "stdout",
					"text": "+---+-------+--------+-------------------+-------------------+-----------------+------------------+-------+-------+--------------------+--------------------+------------+----------+-----+----------+-------+----------+------------+-------------------+--------------+-------------+-----------+------------+--------------+--------------+---------------+-----------------+-------+-----+--------+--------+--------+-------+-------+----------+-------+-----+---------------+--------------+------------+--------------+--------------+-----------------+---------------------+\n| ID| Source|Severity|         Start_Time|           End_Time|        Start_Lat|         Start_Lng|End_Lat|End_Lng|         Description|              Street|        City|    County|State|   Zipcode|Country|  Timezone|Airport_Code|  Weather_Timestamp|Temperature(F)|Wind_Chill(F)|Humidity(%)|Pressure(in)|Visibility(mi)|Wind_Direction|Wind_Speed(mph)|Weather_Condition|Amenity| Bump|Crossing|Give_Way|Junction|No_Exit|Railway|Roundabout|Station| Stop|Traffic_Calming|Traffic_Signal|Turning_Loop|Sunrise_Sunset|Civil_Twilight|Nautical_Twilight|Astronomical_Twilight|\n+---+-------+--------+-------------------+-------------------+-----------------+------------------+-------+-------+--------------------+--------------------+------------+----------+-----+----------+-------+----------+------------+-------------------+--------------+-------------+-----------+------------+--------------+--------------+---------------+-----------------+-------+-----+--------+--------+--------+-------+-------+----------+-------+-----+---------------+--------------+------------+--------------+--------------+-----------------+---------------------+\n|A-1|Source2|       3|2016-02-08 05:46:00|2016-02-08 11:00:00|        39.865147|        -84.058723|       |       |Right lane blocke...|              I-70 E|      Dayton|Montgomery|   OH|     45424|     US|US/Eastern|        KFFO|2016-02-08 05:58:00|          36.9|             |       91.0|       29.68|          10.0|          Calm|               |       Light Rain|  False|False|   False|   False|   False|  False|  False|     False|  False|False|          False|         False|       False|         Night|         Night|            Night|                Night|\n|A-2|Source2|       2|2016-02-08 06:07:59|2016-02-08 06:37:59|39.92805900000001|        -82.831184|       |       |Accident on Brice...|            Brice Rd|Reynoldsburg|  Franklin|   OH|43068-3402|     US|US/Eastern|        KCMH|2016-02-08 05:51:00|          37.9|             |      100.0|       29.65|          10.0|          Calm|               |       Light Rain|  False|False|   False|   False|   False|  False|  False|     False|  False|False|          False|         False|       False|         Night|         Night|            Night|                  Day|\n|A-3|Source2|       2|2016-02-08 06:49:27|2016-02-08 07:19:27|        39.063148|        -84.032608|       |       |Accident on OH-32...|      State Route 32|Williamsburg|  Clermont|   OH|     45176|     US|US/Eastern|        KI69|2016-02-08 06:56:00|          36.0|         33.3|      100.0|       29.67|          10.0|            SW|            3.5|         Overcast|  False|False|   False|   False|   False|  False|  False|     False|  False|False|          False|          True|       False|         Night|         Night|              Day|                  Day|\n|A-4|Source2|       3|2016-02-08 07:23:34|2016-02-08 07:53:34|        39.747753|-84.20558199999998|       |       |Accident on I-75 ...|              I-75 S|      Dayton|Montgomery|   OH|     45417|     US|US/Eastern|        KDAY|2016-02-08 07:38:00|          35.1|         31.0|       96.0|       29.64|           9.0|            SW|            4.6|    Mostly Cloudy|  False|False|   False|   False|   False|  False|  False|     False|  False|False|          False|         False|       False|         Night|           Day|              Day|                  Day|\n|A-5|Source2|       2|2016-02-08 07:39:07|2016-02-08 08:09:07|        39.627781|        -84.188354|       |       |Accident on McEwe...|Miamisburg Center...|      Dayton|Montgomery|   OH|     45459|     US|US/Eastern|        KMGY|2016-02-08 07:53:00|          36.0|         33.3|       89.0|       29.65|           6.0|            SW|            3.5|    Mostly Cloudy|  False|False|   False|   False|   False|  False|  False|     False|  False|False|          False|          True|       False|           Day|           Day|              Day|                  Day|\n+---+-------+--------+-------------------+-------------------+-----------------+------------------+-------+-------+--------------------+--------------------+------------+----------+-----+----------+-------+----------+------------+-------------------+--------------+-------------+-----------+------------+--------------+--------------+---------------+-----------------+-------+-----+--------+--------+--------+-------+-------+----------+-------+-----+---------------+--------------+------------+--------------+--------------+-----------------+---------------------+\nonly showing top 5 rows\n",
					"output_type": "stream"
				}
			]
		},
		{
			"cell_type": "code",
			"source": "# Handle Humidity(%) outliers (clip values outside the 10%-90% range)",
			"metadata": {},
			"execution_count": null,
			"outputs": []
		},
		{
			"cell_type": "code",
			"source": "df_cleaned = df_cleaned.withColumn(\n    \"Humidity(%)\",\n    F.when(F.col(\"Humidity(%)\") < 10, F.lit(10))   # Set values less than 10 to 10\n    .when(F.col(\"Humidity(%)\") > 90, F.lit(90))    # Set values greater than 90 to 90\n    .otherwise(F.col(\"Humidity(%)\"))               # Leave other values unchanged\n)",
			"metadata": {
				"trusted": true,
				"tags": []
			},
			"execution_count": 35,
			"outputs": [
				{
					"name": "stdout",
					"text": "\n",
					"output_type": "stream"
				}
			]
		},
		{
			"cell_type": "code",
			"source": "# Handle extreme Pressure(in) values (< 28 or > 32)\ndf_cleaned = df_cleaned.withColumn(\n    \"Pressure(in)\",\n    F.when((F.col(\"Pressure(in)\") < 28) | (F.col(\"Pressure(in)\") > 32), F.lit(None))\n    .otherwise(F.col(\"Pressure(in)\"))\n)",
			"metadata": {
				"trusted": true,
				"tags": []
			},
			"execution_count": 36,
			"outputs": [
				{
					"name": "stdout",
					"text": "\n",
					"output_type": "stream"
				}
			]
		},
		{
			"cell_type": "code",
			"source": "# show rows with extreme Pressure(in) values (< 28 or > 32)\nextreme_Pressure = df_cleaned.filter((F.col(\"Pressure(in)\") < 28) | (F.col(\"Pressure(in)\") > 32))",
			"metadata": {
				"trusted": true,
				"tags": []
			},
			"execution_count": 37,
			"outputs": [
				{
					"name": "stdout",
					"text": "\n",
					"output_type": "stream"
				}
			]
		},
		{
			"cell_type": "code",
			"source": "extreme_Pressure.show()",
			"metadata": {
				"trusted": true,
				"tags": []
			},
			"execution_count": 38,
			"outputs": [
				{
					"name": "stdout",
					"text": "+---+------+--------+----------+--------+---------+---------+-------+-------+-----------+------+----+------+-----+-------+-------+--------+------------+-----------------+--------------+-------------+-----------+------------+--------------+--------------+---------------+-----------------+-------+----+--------+--------+--------+-------+-------+----------+-------+----+---------------+--------------+------------+--------------+--------------+-----------------+---------------------+\n| ID|Source|Severity|Start_Time|End_Time|Start_Lat|Start_Lng|End_Lat|End_Lng|Description|Street|City|County|State|Zipcode|Country|Timezone|Airport_Code|Weather_Timestamp|Temperature(F)|Wind_Chill(F)|Humidity(%)|Pressure(in)|Visibility(mi)|Wind_Direction|Wind_Speed(mph)|Weather_Condition|Amenity|Bump|Crossing|Give_Way|Junction|No_Exit|Railway|Roundabout|Station|Stop|Traffic_Calming|Traffic_Signal|Turning_Loop|Sunrise_Sunset|Civil_Twilight|Nautical_Twilight|Astronomical_Twilight|\n+---+------+--------+----------+--------+---------+---------+-------+-------+-----------+------+----+------+-----+-------+-------+--------+------------+-----------------+--------------+-------------+-----------+------------+--------------+--------------+---------------+-----------------+-------+----+--------+--------+--------+-------+-------+----------+-------+----+---------------+--------------+------------+--------------+--------------+-----------------+---------------------+\n+---+------+--------+----------+--------+---------+---------+-------+-------+-----------+------+----+------+-----+-------+-------+--------+------------+-----------------+--------------+-------------+-----------+------------+--------------+--------------+---------------+-----------------+-------+----+--------+--------+--------+-------+-------+----------+-------+----+---------------+--------------+------------+--------------+--------------+-----------------+---------------------+\n",
					"output_type": "stream"
				}
			]
		},
		{
			"cell_type": "code",
			"source": "# Show the cleaned data with the replaced Pressure(in) values\ndf_cleaned.show(5)",
			"metadata": {
				"trusted": true,
				"tags": []
			},
			"execution_count": 39,
			"outputs": [
				{
					"name": "stdout",
					"text": "+---+-------+--------+-------------------+-------------------+-----------------+------------------+-------+-------+--------------------+--------------------+------------+----------+-----+----------+-------+----------+------------+-------------------+--------------+-------------+-----------+------------+--------------+--------------+---------------+-----------------+-------+-----+--------+--------+--------+-------+-------+----------+-------+-----+---------------+--------------+------------+--------------+--------------+-----------------+---------------------+\n| ID| Source|Severity|         Start_Time|           End_Time|        Start_Lat|         Start_Lng|End_Lat|End_Lng|         Description|              Street|        City|    County|State|   Zipcode|Country|  Timezone|Airport_Code|  Weather_Timestamp|Temperature(F)|Wind_Chill(F)|Humidity(%)|Pressure(in)|Visibility(mi)|Wind_Direction|Wind_Speed(mph)|Weather_Condition|Amenity| Bump|Crossing|Give_Way|Junction|No_Exit|Railway|Roundabout|Station| Stop|Traffic_Calming|Traffic_Signal|Turning_Loop|Sunrise_Sunset|Civil_Twilight|Nautical_Twilight|Astronomical_Twilight|\n+---+-------+--------+-------------------+-------------------+-----------------+------------------+-------+-------+--------------------+--------------------+------------+----------+-----+----------+-------+----------+------------+-------------------+--------------+-------------+-----------+------------+--------------+--------------+---------------+-----------------+-------+-----+--------+--------+--------+-------+-------+----------+-------+-----+---------------+--------------+------------+--------------+--------------+-----------------+---------------------+\n|A-1|Source2|       3|2016-02-08 05:46:00|2016-02-08 11:00:00|        39.865147|        -84.058723|       |       |Right lane blocke...|              I-70 E|      Dayton|Montgomery|   OH|     45424|     US|US/Eastern|        KFFO|2016-02-08 05:58:00|          36.9|             |         90|       29.68|          10.0|          Calm|               |       Light Rain|  False|False|   False|   False|   False|  False|  False|     False|  False|False|          False|         False|       False|         Night|         Night|            Night|                Night|\n|A-2|Source2|       2|2016-02-08 06:07:59|2016-02-08 06:37:59|39.92805900000001|        -82.831184|       |       |Accident on Brice...|            Brice Rd|Reynoldsburg|  Franklin|   OH|43068-3402|     US|US/Eastern|        KCMH|2016-02-08 05:51:00|          37.9|             |         90|       29.65|          10.0|          Calm|               |       Light Rain|  False|False|   False|   False|   False|  False|  False|     False|  False|False|          False|         False|       False|         Night|         Night|            Night|                  Day|\n|A-3|Source2|       2|2016-02-08 06:49:27|2016-02-08 07:19:27|        39.063148|        -84.032608|       |       |Accident on OH-32...|      State Route 32|Williamsburg|  Clermont|   OH|     45176|     US|US/Eastern|        KI69|2016-02-08 06:56:00|          36.0|         33.3|         90|       29.67|          10.0|            SW|            3.5|         Overcast|  False|False|   False|   False|   False|  False|  False|     False|  False|False|          False|          True|       False|         Night|         Night|              Day|                  Day|\n|A-4|Source2|       3|2016-02-08 07:23:34|2016-02-08 07:53:34|        39.747753|-84.20558199999998|       |       |Accident on I-75 ...|              I-75 S|      Dayton|Montgomery|   OH|     45417|     US|US/Eastern|        KDAY|2016-02-08 07:38:00|          35.1|         31.0|         90|       29.64|           9.0|            SW|            4.6|    Mostly Cloudy|  False|False|   False|   False|   False|  False|  False|     False|  False|False|          False|         False|       False|         Night|           Day|              Day|                  Day|\n|A-5|Source2|       2|2016-02-08 07:39:07|2016-02-08 08:09:07|        39.627781|        -84.188354|       |       |Accident on McEwe...|Miamisburg Center...|      Dayton|Montgomery|   OH|     45459|     US|US/Eastern|        KMGY|2016-02-08 07:53:00|          36.0|         33.3|       89.0|       29.65|           6.0|            SW|            3.5|    Mostly Cloudy|  False|False|   False|   False|   False|  False|  False|     False|  False|False|          False|          True|       False|           Day|           Day|              Day|                  Day|\n+---+-------+--------+-------------------+-------------------+-----------------+------------------+-------+-------+--------------------+--------------------+------------+----------+-----+----------+-------+----------+------------+-------------------+--------------+-------------+-----------+------------+--------------+--------------+---------------+-----------------+-------+-----+--------+--------+--------+-------+-------+----------+-------+-----+---------------+--------------+------------+--------------+--------------+-----------------+---------------------+\nonly showing top 5 rows\n",
					"output_type": "stream"
				}
			]
		},
		{
			"cell_type": "code",
			"source": "",
			"metadata": {},
			"execution_count": null,
			"outputs": []
		},
		{
			"cell_type": "code",
			"source": "#Keep only the selected columns",
			"metadata": {},
			"execution_count": null,
			"outputs": []
		},
		{
			"cell_type": "code",
			"source": "useful_columns = ['ID', 'Severity', 'Start_Time', 'End_Time', 'Start_Lat',  \n                  'Start_Lng', 'Distance(mi)', 'Street', 'City', 'County', 'State', \n                  'Timezone', 'Temperature(F)', 'Humidity(%)', 'Pressure(in)',\n                  'Visibility(mi)', 'Wind_Direction', 'Wind_Speed(mph)', \n                  'Weather_Condition', 'Amenity', 'Bump', 'Crossing', 'Give_Way', \n                  'Junction', 'No_Exit', 'Railway', 'Roundabout', 'Station', 'Stop',\n                  'Traffic_Calming', 'Traffic_Signal', 'Turning_Loop', 'Sunrise_Sunset']\n",
			"metadata": {
				"trusted": true,
				"tags": []
			},
			"execution_count": 45,
			"outputs": [
				{
					"name": "stdout",
					"text": "\n",
					"output_type": "stream"
				}
			]
		},
		{
			"cell_type": "code",
			"source": "df_cleaned = df.select(useful_columns)",
			"metadata": {
				"trusted": true,
				"tags": []
			},
			"execution_count": 46,
			"outputs": [
				{
					"name": "stdout",
					"text": "\n",
					"output_type": "stream"
				}
			]
		},
		{
			"cell_type": "code",
			"source": "",
			"metadata": {},
			"execution_count": null,
			"outputs": []
		},
		{
			"cell_type": "code",
			"source": "num_columns = len(df_cleaned.columns)",
			"metadata": {
				"trusted": true,
				"tags": []
			},
			"execution_count": 48,
			"outputs": [
				{
					"name": "stdout",
					"text": "\n",
					"output_type": "stream"
				}
			]
		},
		{
			"cell_type": "code",
			"source": "print(num_columns)",
			"metadata": {
				"trusted": true,
				"tags": []
			},
			"execution_count": 53,
			"outputs": [
				{
					"name": "stdout",
					"text": "33\n",
					"output_type": "stream"
				}
			]
		},
		{
			"cell_type": "code",
			"source": "# Define the new S3 path for the transformed data\ntransformed_s3_path = \"s3://accidentdatasetbucket/Transformed Data/\"\n",
			"metadata": {
				"trusted": true,
				"tags": []
			},
			"execution_count": 65,
			"outputs": [
				{
					"name": "stdout",
					"text": "\n",
					"output_type": "stream"
				}
			]
		},
		{
			"cell_type": "code",
			"source": "# Coalesce the DataFrame to a single partition (single file) and write it to S3\ndf_cleaned.coalesce(1).write.format(\"csv\").option(\"header\", \"true\").mode(\"overwrite\").save(transformed_s3_path)",
			"metadata": {
				"trusted": true,
				"tags": []
			},
			"execution_count": 67,
			"outputs": [
				{
					"name": "stdout",
					"text": "\n",
					"output_type": "stream"
				}
			]
		},
		{
			"cell_type": "code",
			"source": "",
			"metadata": {},
			"execution_count": null,
			"outputs": []
		},
		{
			"cell_type": "code",
			"source": "",
			"metadata": {},
			"execution_count": null,
			"outputs": []
		},
		{
			"cell_type": "markdown",
			"source": "#### Example: Convert the DynamicFrame to a Spark DataFrame and display a sample of the data\n",
			"metadata": {
				"editable": true,
				"trusted": true
			}
		},
		{
			"cell_type": "markdown",
			"source": "#### Example: Visualize data with matplotlib\n",
			"metadata": {
				"editable": true,
				"trusted": true
			}
		},
		{
			"cell_type": "markdown",
			"source": "#### Example: Write the data in the DynamicFrame to a location in Amazon S3 and a table for it in the AWS Glue Data Catalog\n",
			"metadata": {
				"editable": true,
				"trusted": true
			}
		},
		{
			"cell_type": "markdown",
			"source": "s3output = glueContext.getSink(\n  path=\"s3://bucket_name/folder_name\",\n  connection_type=\"s3\",\n  updateBehavior=\"UPDATE_IN_DATABASE\",\n  partitionKeys=[],\n  compression=\"snappy\",\n  enableUpdateCatalog=True,\n  transformation_ctx=\"s3output\",\n)\ns3output.setCatalogInfo(\n  catalogDatabase=\"demo\", catalogTableName=\"populations\"\n)\ns3output.setFormat(\"glueparquet\")\ns3output.writeFrame(DyF)",
			"metadata": {
				"editable": true
			}
		}
	]
}